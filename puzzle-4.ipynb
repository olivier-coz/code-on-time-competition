{
 "cells": [
  {
   "cell_type": "code",
   "execution_count": null,
   "id": "90b83221",
   "metadata": {
    "ExecuteTime": {
     "start_time": "2023-04-27T14:26:53.753700Z",
     "end_time": "2023-04-27T14:26:53.756906Z"
    }
   },
   "outputs": [],
   "source": [
    "import pandas as pd\n",
    "import pickle\n",
    "import numpy as np\n",
    "import warnings\n",
    "warnings.filterwarnings('ignore')\n",
    "# warnings.filterwarnings(action='once')"
   ]
  },
  {
   "cell_type": "code",
   "execution_count": null,
   "id": "3ead714b",
   "metadata": {
    "ExecuteTime": {
     "start_time": "2023-04-27T14:26:54.033240Z",
     "end_time": "2023-04-27T14:26:54.036152Z"
    }
   },
   "outputs": [],
   "source": [
    "def read_input(file_name):\n",
    "    with open(file_name, 'r') as file:\n",
    "        n, m = map(int, file.readline().strip().split())\n",
    "        data = [tuple(map(int, line.strip().split() + [i])) for i,line in enumerate(file.readlines())]\n",
    "    return n, m, data[:n], data[n:]"
   ]
  },
  {
   "cell_type": "code",
   "execution_count": null,
   "outputs": [],
   "source": [
    "def sort_missions(missions):\n",
    "    missions_sorted = np.array(sorted(missions, key=lambda x: x[1]))\n",
    "    start_date = np.array(sorted(missions, key=lambda x: x[0]))[0,0]\n",
    "    return missions_sorted, start_date\n"
   ],
   "metadata": {
    "collapsed": false,
    "ExecuteTime": {
     "start_time": "2023-04-27T14:26:54.338978Z",
     "end_time": "2023-04-27T14:26:54.341844Z"
    }
   }
  },
  {
   "cell_type": "code",
   "execution_count": null,
   "outputs": [],
   "source": [
    "def sort_chronobots_init(chronobots, start_date, n, tuning):\n",
    "    chronobots_sorted = pd.DataFrame(data = sorted(chronobots, key=lambda x: x[2], reverse=True))\n",
    "\n",
    "    chronobots_sorted_top = chronobots_sorted.loc[chronobots_sorted[2] > 100]\n",
    "    chronobots_sorted_top[4] = tuning\n",
    "    chronobots_sorted_top[4] = chronobots_sorted_top[[2, 4]].min(axis=1)\n",
    "    chronobots_sorted_top.sort_values([4, 0], ascending = [False, True], inplace=True)\n",
    "\n",
    "\n",
    "    chronobots_sorted_bottom = chronobots_sorted.loc[chronobots_sorted[2] <= 100]\n",
    "    chronobots_sorted_bottom.sort_values([0, 2], ascending = [False, False], inplace=True)\n",
    "    chronobots_sorted = np.array(pd.concat([chronobots_sorted_top, chronobots_sorted_bottom], sort=False).loc[:,0:3])\n",
    "    chronobots_sorted[:,3] -= n\n",
    "\n",
    "\n",
    "    chronobots_sorted = np.c_[ chronobots_sorted, np.ones(len(chronobots_sorted), dtype = np.int64)*start_date ]\n",
    "    chronobots_sorted = np.c_[ chronobots_sorted, np.zeros(len(chronobots_sorted), dtype = np.int64) ]\n",
    "\n",
    "    chronobots_sorted = chronobots_sorted.astype('int64')\n",
    "\n",
    "    k = len(chronobots_sorted_top)\n",
    "\n",
    "    return chronobots_sorted, k\n"
   ],
   "metadata": {
    "collapsed": false,
    "ExecuteTime": {
     "start_time": "2023-04-27T14:26:54.632191Z",
     "end_time": "2023-04-27T14:26:54.635111Z"
    }
   }
  },
  {
   "cell_type": "code",
   "execution_count": null,
   "outputs": [],
   "source": [
    "def sort_chronobots(chronobots):\n",
    "    chronobots_sorted = pd.DataFrame(data = chronobots)\n",
    "\n",
    "    chronobots_sorted.sort_values([5], ascending = False, inplace=True)\n",
    "\n",
    "    chronobots_sorted = np.array(chronobots_sorted)\n",
    "    chronobots_sorted = chronobots_sorted.astype('int64')\n",
    "\n",
    "    return chronobots_sorted"
   ],
   "metadata": {
    "collapsed": false,
    "ExecuteTime": {
     "start_time": "2023-04-27T14:26:54.910715Z",
     "end_time": "2023-04-27T14:26:54.913590Z"
    }
   }
  },
  {
   "cell_type": "code",
   "execution_count": null,
   "id": "2b590a03",
   "metadata": {
    "ExecuteTime": {
     "start_time": "2023-04-27T14:26:55.211053Z",
     "end_time": "2023-04-27T14:26:55.214781Z"
    }
   },
   "outputs": [],
   "source": [
    "def calculate_mission_revenue(r, c, k, is_chronobot_overworked):\n",
    "    if is_chronobot_overworked == False:\n",
    "        return r\n",
    "    else:\n",
    "        return min(int(r * (c*0.01) ** (k+1)), 2 * r)"
   ]
  },
  {
   "cell_type": "code",
   "execution_count": null,
   "outputs": [],
   "source": [
    "def get_unique_dates(missions_sorted):\n",
    "    unique_dates = sorted(set(np.append(missions_sorted[:, 0], missions_sorted[:, 1])))\n",
    "    return(unique_dates)"
   ],
   "metadata": {
    "collapsed": false,
    "ExecuteTime": {
     "start_time": "2023-04-27T14:26:55.483435Z",
     "end_time": "2023-04-27T14:26:55.527225Z"
    }
   }
  },
  {
   "cell_type": "code",
   "execution_count": null,
   "outputs": [],
   "source": [
    "def save_solution(results):\n",
    "    total_revenue = 0\n",
    "    sol = [0]*n\n",
    "    for idx in results.keys():\n",
    "        total_revenue += results[idx][0]\n",
    "        for a in results[idx][1]:\n",
    "            sol[a] = idx+1\n",
    "\n",
    "    with open(\"output.txt\", 'w') as file:\n",
    "        file.write(' '.join(map(str, sol)))\n",
    "    print(\"total_revenue = \", total_revenue)"
   ],
   "metadata": {
    "collapsed": false,
    "ExecuteTime": {
     "start_time": "2023-04-27T14:26:55.818993Z",
     "end_time": "2023-04-27T14:26:55.821962Z"
    }
   }
  },
  {
   "cell_type": "code",
   "execution_count": null,
   "outputs": [],
   "source": [
    "def calculate_chronobot_revenue(chronobot, missions_sorted, unique_dates):\n",
    "    # Initialize dynamic programming table\n",
    "    dp = {chronobot[4]: [0, 0, 0, []]}\n",
    "    mission_index = 0\n",
    "\n",
    "    # Iterate through unique_dates\n",
    "    for i, date in enumerate(unique_dates):\n",
    "        if date < chronobot[4]:\n",
    "            pass\n",
    "        dp_entry = dp[date]\n",
    "\n",
    "        # Iterate through missions with the current end date\n",
    "        # mission_index < len(missions_sorted) and\n",
    "        while mission_index < len(missions_sorted) and missions_sorted[mission_index][1] == date:\n",
    "            mission = missions_sorted[mission_index]\n",
    "            prev_dp_entry = dp[mission[0]]\n",
    "            is_chronobot_overworked = prev_dp_entry[2] + mission[1] - mission[0] > chronobot[0]\n",
    "\n",
    "            # Calculate mission revenue\n",
    "            mission_revenue = calculate_mission_revenue(mission[2], chronobot[2], prev_dp_entry[1], is_chronobot_overworked)\n",
    "\n",
    "            # Update the dp_entry if there is a better revenue\n",
    "            if (mission_revenue + prev_dp_entry[0]) > dp_entry[0]:\n",
    "                dp_entry = [\n",
    "                    mission_revenue + prev_dp_entry[0],\n",
    "                    prev_dp_entry[1] + is_chronobot_overworked,\n",
    "                    prev_dp_entry[2] + mission[1] - mission[0],\n",
    "                    prev_dp_entry[3] + [mission[3]]\n",
    "                ]\n",
    "            mission_index += 1\n",
    "\n",
    "        # Update dp table\n",
    "        dp[unique_dates[min(i + 1, len(unique_dates)-1)]] = dp_entry\n",
    "\n",
    "    # Calculate final revenue and mission indices for the given chronobot\n",
    "\n",
    "    final_dp_entry = dp[unique_dates[-1]]\n",
    "    final_revenue = final_dp_entry[0] - chronobot[1] * (final_dp_entry[1] != 0)\n",
    "    mission_indices = final_dp_entry[3]\n",
    "\n",
    "    return final_revenue, mission_indices\n"
   ],
   "metadata": {
    "collapsed": false,
    "ExecuteTime": {
     "start_time": "2023-04-27T14:26:56.096636Z",
     "end_time": "2023-04-27T14:26:56.137929Z"
    }
   }
  },
  {
   "cell_type": "code",
   "execution_count": null,
   "outputs": [],
   "source": [
    "def calculate_chronobot_revenue_no_overwork(chronobot, missions_sorted, unique_dates):\n",
    "    # Initialize dynamic programming table\n",
    "    dp = {chronobot[4]: [0, 0, 0, []]}\n",
    "    mission_index = 0\n",
    "    for date in unique_dates:\n",
    "        dp[date] = [0, 0, 0, []]\n",
    "\n",
    "    # Iterate through unique_dates\n",
    "    for i, date in enumerate(unique_dates):\n",
    "        if date < chronobot[4]:\n",
    "            pass\n",
    "        dp_entry = dp[date]\n",
    "\n",
    "        # Iterate through missions with the current end date\n",
    "        # mission_index < len(missions_sorted) and\n",
    "        while mission_index < len(missions_sorted) and missions_sorted[mission_index][1] == date:\n",
    "            mission = missions_sorted[mission_index]\n",
    "            prev_dp_entry = dp[mission[0]]\n",
    "            is_chronobot_overworked = prev_dp_entry[2] + mission[1] - mission[0] > chronobot[0]\n",
    "\n",
    "            # Calculate mission revenue\n",
    "            mission_revenue = calculate_mission_revenue(mission[2], chronobot[2], prev_dp_entry[1], is_chronobot_overworked)\n",
    "\n",
    "            # Skip mission if it would cause the chronobot to become overworked\n",
    "            if is_chronobot_overworked:\n",
    "                mission_index += 1\n",
    "                continue\n",
    "\n",
    "\n",
    "            # Update the dp_entry if there is a better revenue\n",
    "            if (mission_revenue + prev_dp_entry[0]) > dp_entry[0]:\n",
    "                dp_entry = [\n",
    "                    mission_revenue + prev_dp_entry[0],\n",
    "                    prev_dp_entry[1] + is_chronobot_overworked,\n",
    "                    prev_dp_entry[2] + mission[1] - mission[0],\n",
    "                    prev_dp_entry[3] + [mission[3]]\n",
    "                ]\n",
    "            mission_index += 1\n",
    "        # Update dp table\n",
    "        dp[unique_dates[min(i + 1, len(unique_dates)-1)]] = dp_entry\n",
    "\n",
    "    # Calculate final revenue and mission indices for the given chronobot\n",
    "    # if dp == {0: [0, 0, 0, []]}:\n",
    "    #     return 0, []\n",
    "    final_dp_entry = dp[unique_dates[-1]]\n",
    "    final_revenue = final_dp_entry[0] - chronobot[1] * (final_dp_entry[1] != 0)\n",
    "    mission_indices = final_dp_entry[3]\n",
    "\n",
    "    return final_revenue, mission_indices"
   ],
   "metadata": {
    "collapsed": false,
    "ExecuteTime": {
     "start_time": "2023-04-27T14:26:56.393874Z",
     "end_time": "2023-04-27T14:26:56.440426Z"
    }
   }
  },
  {
   "cell_type": "code",
   "execution_count": null,
   "outputs": [],
   "source": [
    "def find_best_chronobot(missions_sorted, chronobots_sorted, unique_dates):\n",
    "    best_chronobot = None\n",
    "    best_revenue = float('-inf')\n",
    "    best_mission_indices = []\n",
    "\n",
    "    for chronobot in chronobots_sorted:\n",
    "        # Calculate the revenue and mission indices for the current chronobot\n",
    "\n",
    "        revenue, mission_indices = calculate_chronobot_revenue(chronobot, missions_sorted, unique_dates)\n",
    "\n",
    "        # Update the best chronobot if the current chronobot has a higher revenue\n",
    "        if revenue > best_revenue:\n",
    "            best_chronobot = chronobot\n",
    "            best_revenue = revenue\n",
    "            best_mission_indices = mission_indices\n",
    "\n",
    "    return best_chronobot, best_revenue, best_mission_indices"
   ],
   "metadata": {
    "collapsed": false,
    "ExecuteTime": {
     "start_time": "2023-04-27T16:07:50.763501Z",
     "end_time": "2023-04-27T16:07:50.809772Z"
    }
   }
  },
  {
   "cell_type": "code",
   "execution_count": null,
   "outputs": [],
   "source": [
    "def find_best_chronobot_order(missions_sorted, chronobots_sorted, unique_dates):\n",
    "\n",
    "    for chronobot in chronobots_sorted:\n",
    "\n",
    "        if chronobot[2] > 89:\n",
    "            best_revenue, mission_indices = calculate_chronobot_revenue(chronobot, missions_sorted, unique_dates)\n",
    "            best_revenue_n_o, mission_indices_n_o = calculate_chronobot_revenue_no_overwork(chronobot, missions_sorted, unique_dates)\n",
    "\n",
    "            if best_revenue <= best_revenue_n_o:\n",
    "                best_revenue, mission_indices = best_revenue_n_o, mission_indices_n_o\n",
    "\n",
    "        else :\n",
    "            best_revenue, mission_indices = calculate_chronobot_revenue_no_overwork(chronobot, missions_sorted, unique_dates)\n",
    "\n",
    "        chronobot[5] = best_revenue\n",
    "\n",
    "    chronobots_sorted = sort_chronobots(chronobots_sorted)\n",
    "\n",
    "    return chronobots_sorted"
   ],
   "metadata": {
    "collapsed": false,
    "ExecuteTime": {
     "start_time": "2023-04-27T16:07:51.433452Z",
     "end_time": "2023-04-27T16:07:51.435569Z"
    }
   }
  },
  {
   "cell_type": "code",
   "execution_count": null,
   "outputs": [],
   "source": [
    "def optimize_revenue(n, m, missions_sorted, chronobots_sorted, results, unique_dates, missions_done, take_first):\n",
    "    # If all chronobots are processed, return the results\n",
    "\n",
    "    if m == 0:\n",
    "        return results, missions_sorted\n",
    "    # Find the best chronobot and its revenue and mission indices\n",
    "    if take_first:\n",
    "        best_chronobot = chronobots_sorted[0]\n",
    "        best_revenue, best_mission_indices = calculate_chronobot_revenue(best_chronobot, missions_sorted, unique_dates)\n",
    "    else:\n",
    "        best_chronobot, best_revenue, best_mission_indices = find_best_chronobot(missions_sorted, chronobots_sorted, unique_dates)\n",
    "    # Update the results for the best chronobot\n",
    "\n",
    "    temp = {best_chronobot[3]:[best_revenue, best_mission_indices]}\n",
    "    with open('cr/'+str(best_chronobot[3])+'cr3.pickle', 'wb') as handle:\n",
    "        pickle.dump(temp, handle, protocol=pickle.HIGHEST_PROTOCOL)\n",
    "    results[best_chronobot[3]] = [best_revenue, best_mission_indices]\n",
    "\n",
    "    # Remove the best chronobot from the sorted list\n",
    "    for idx, chronobot in enumerate(chronobots_sorted):\n",
    "        if chronobot[3] == best_chronobot[3]:\n",
    "            chronobots_sorted = np.delete(chronobots_sorted, idx, 0)\n",
    "            break\n",
    "\n",
    "    # Update mission completions and remove completed missions\n",
    "    completed_mission_indices = []\n",
    "\n",
    "    for mission_completed in results[best_chronobot[3]][1]:\n",
    "        missions_done[mission_completed] += 1\n",
    "    for idx, mission in enumerate(missions_sorted):\n",
    "        if missions_done[mission[3]] == 1:\n",
    "            completed_mission_indices.append(idx)\n",
    "    missions_sorted = np.delete(missions_sorted, completed_mission_indices, 0)\n",
    "\n",
    "    # Update_unique dates\n",
    "    unique_dates = get_unique_dates(missions_sorted)\n",
    "\n",
    "    # Recursively process the remaining chronobots\n",
    "    return optimize_revenue(n, m - 1, missions_sorted, chronobots_sorted, results, unique_dates, missions_done, take_first)"
   ],
   "metadata": {
    "collapsed": false,
    "ExecuteTime": {
     "start_time": "2023-04-27T16:07:51.843968Z",
     "end_time": "2023-04-27T16:07:51.846077Z"
    }
   }
  },
  {
   "cell_type": "code",
   "execution_count": null,
   "outputs": [],
   "source": [],
   "metadata": {
    "collapsed": false,
    "ExecuteTime": {
     "start_time": "2023-04-27T16:07:52.215216Z",
     "end_time": "2023-04-27T16:07:52.219341Z"
    }
   }
  },
  {
   "cell_type": "code",
   "execution_count": null,
   "outputs": [],
   "source": [
    "file_name = \"input_4c.txt\"\n",
    "tuning = 130\n",
    "n, m, missions, chronobots = read_input(file_name)\n",
    "\n",
    "\n",
    "missions_sorted, start_date = sort_missions(missions)\n",
    "chronobots_sorted, k = sort_chronobots_init(chronobots, start_date, n, tuning)\n",
    "unique_dates = get_unique_dates(missions_sorted)\n",
    "results = {}\n",
    "sol = {}\n",
    "missions_done = [0]*(n+1)\n",
    "chronobot = chronobots_sorted[0]\n",
    "# Find the best chronobot order\n",
    "chronobots_sorted = find_best_chronobot_order(missions_sorted, chronobots_sorted, unique_dates)\n",
    "\n",
    "\n",
    "save = -1\n",
    "while len(chronobots_sorted) != 0:\n",
    "    save += 1\n",
    "    top_chronobots = find_best_chronobot_order(missions_sorted, chronobots_sorted[:12], unique_dates)\n",
    "\n",
    "    best_chronobot = top_chronobots[0]\n",
    "    results = {}\n",
    "\n",
    "\n",
    "    if best_chronobot[2] > 89:\n",
    "        best_revenue, mission_indices = calculate_chronobot_revenue(best_chronobot, missions_sorted, unique_dates)\n",
    "        best_revenue_n_o, mission_indices_n_o = calculate_chronobot_revenue_no_overwork(best_chronobot, missions_sorted, unique_dates)\n",
    "\n",
    "        if best_revenue <= best_revenue_n_o:\n",
    "\n",
    "            best_revenue, mission_indices = best_revenue_n_o, mission_indices_n_o\n",
    "        best_chronobot[5] = best_revenue\n",
    "    else :\n",
    "        best_revenue, mission_indices = calculate_chronobot_revenue_no_overwork(best_chronobot, missions_sorted, unique_dates)\n",
    "        best_chronobot[5] = best_revenue\n",
    "\n",
    "    results[best_chronobot[3]] = [best_revenue, mission_indices]\n",
    "    # Update mission completions and remove completed missions\n",
    "    missions_done = [0]*(n+1)\n",
    "    completed_mission_indices = []\n",
    "\n",
    "\n",
    "    for mission_completed in mission_indices:\n",
    "        missions_done[mission_completed] += 1\n",
    "    for idx, mission in enumerate(missions_sorted):\n",
    "        if missions_done[mission[3]] == 1:\n",
    "            completed_mission_indices.append(idx)\n",
    "    missions_sorted = np.delete(missions_sorted, completed_mission_indices, 0)\n",
    "\n",
    "\n",
    "    with open('crs/'+str(best_chronobot[3])+'cr3.pickle', 'wb') as handle:\n",
    "        pickle.dump(results, handle, protocol=pickle.HIGHEST_PROTOCOL)\n",
    "    for key in results.keys():\n",
    "        sol[key] = results[key]\n",
    "\n",
    "    chronobots_sorted = np.concatenate(([top_chronobots[1:], chronobots_sorted[12:]]), axis=0)\n",
    "save_solution(sol)\n",
    "with open('crs/nmcr3.pickle', 'wb') as handle:\n",
    "    pickle.dump((n,m), handle, protocol=pickle.HIGHEST_PROTOCOL)\n"
   ],
   "metadata": {
    "collapsed": false,
    "ExecuteTime": {
     "start_time": "2023-04-27T18:40:02.691612Z",
     "end_time": "2023-04-27T19:05:32.274480Z"
    }
   }
  },
  {
   "cell_type": "code",
   "execution_count": null,
   "outputs": [],
   "source": [
    "file_name = \"input_4c.txt\"\n",
    "tuning = 125\n",
    "tuning2 = 30\n",
    "n, m, missions, chronobots = read_input(file_name)\n",
    "\n",
    "\n",
    "# with open('temp.pickle', 'rb') as handle:\n",
    "#     results_old = pickle.load(handle)\n",
    "# #\n",
    "# used_cr = []\n",
    "# used_missions = []\n",
    "#\n",
    "# for cr in resul ts_old.keys():\n",
    "#     used_cr += [cr]\n",
    "#     used_missions += results_old[cr][1]\n",
    "#\n",
    "# chronobots = np.delete(chronobots, used_cr, 0)\n",
    "# missions = np.delete(missions, used_missions, 0)\n",
    "\n",
    "\n",
    "missions_sorted, start_date = sort_missions(missions)\n",
    "chronobots_sorted, k = sort_chronobots_init(chronobots, start_date, n, tuning)\n",
    "unique_dates = get_unique_dates(missions_sorted)\n",
    "results = {}\n",
    "sol = {}\n",
    "\n",
    "\n",
    "# chronobot = chronobots_sorted[0]\n",
    "# r1, temp = calculate_chronobot_revenue(chronobot, missions_sorted, unique_dates)\n",
    "\n",
    "# best_chronobot, best_revenue, best_mission_indices = find_best_chronobot(missions_sorted, chronobots_sorted, unique_dates)\n",
    "results = {}\n",
    "count = 0\n",
    "for chronobot in chronobots_sorted:\n",
    "    count += 1\n",
    "\n",
    "    if chronobot[2] > tuning2:\n",
    "        best_revenue, mission_indices = calculate_chronobot_revenue(chronobot, missions_sorted, unique_dates)\n",
    "        best_revenue_n_o, mission_indices_n_o = calculate_chronobot_revenue_no_overwork(chronobot, missions_sorted, unique_dates)\n",
    "\n",
    "        if best_revenue <= best_revenue_n_o:\n",
    "\n",
    "            best_revenue, mission_indices = best_revenue_n_o, mission_indices_n_o\n",
    "\n",
    "    else :\n",
    "        best_revenue, mission_indices = calculate_chronobot_revenue_no_overwork(chronobot, missions_sorted, unique_dates)\n",
    "\n",
    "\n",
    "    results[chronobot[3]] = [best_revenue, mission_indices]\n",
    "\n",
    "    # Update mission completions and remove completed missions\n",
    "    missions_done = [0]*(n+1)\n",
    "    completed_mission_indices = []\n",
    "\n",
    "\n",
    "    for mission_completed in mission_indices:\n",
    "        missions_done[mission_completed] += 1\n",
    "    for idx, mission in enumerate(missions_sorted):\n",
    "        if missions_done[mission[3]] == 1:\n",
    "            completed_mission_indices.append(idx)\n",
    "    missions_sorted = np.delete(missions_sorted, completed_mission_indices, 0)\n",
    "\n",
    "\n",
    "    # with open('crs/'+str(best_chronobot[3])+'cr3.pickle', 'wb') as handle:\n",
    "    #     pickle.dump(results, handle, protocol=pickle.HIGHEST_PROTOCOL)\n",
    "    # for key in results.keys():\n",
    "    #     sol[key] = results[key]\n",
    "\n",
    "\n",
    "s = 0\n",
    "final2 = [0]*n\n",
    "for idx in results.keys():\n",
    "\n",
    "    s += results[idx][0]\n",
    "    for a in results[idx][1]:\n",
    "\n",
    "        final2[a-1] = idx\n",
    "\n",
    "with open(\"output.txt\", 'w') as file:\n",
    "    file.write(' '.join(map(str, final2)))\n",
    "print(\"s = \", s)"
   ],
   "metadata": {
    "collapsed": false,
    "ExecuteTime": {
     "start_time": "2023-04-27T19:54:43.962260Z",
     "end_time": "2023-04-27T20:03:50.017590Z"
    }
   }
  },
  {
   "cell_type": "code",
   "execution_count": null,
   "outputs": [],
   "source": [
    "s = 0\n",
    "final2 = [0]*n\n",
    "for idx in results.keys():\n",
    "\n",
    "    s += results[idx][0]\n",
    "    for a in results[idx][1]:\n",
    "\n",
    "        final2[a] = idx+1\n",
    "\n",
    "with open(\"output.txt\", 'w') as file:\n",
    "    file.write(' '.join(map(str, final2)))\n",
    "print(\"s = \", s)"
   ],
   "metadata": {
    "collapsed": false
   }
  }
 ],
 "metadata": {
  "kernelspec": {
   "display_name": "Python 3 (ipykernel)",
   "language": "python",
   "name": "python3"
  },
  "language_info": {
   "codemirror_mode": {
    "name": "ipython",
    "version": 3
   },
   "file_extension": ".py",
   "mimetype": "text/x-python",
   "name": "python",
   "nbconvert_exporter": "python",
   "pygments_lexer": "ipython3",
   "version": "3.11.2"
  }
 },
 "nbformat": 4,
 "nbformat_minor": 5
}
